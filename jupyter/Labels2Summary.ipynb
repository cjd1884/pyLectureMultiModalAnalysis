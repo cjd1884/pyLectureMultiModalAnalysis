{
 "cells": [
  {
   "cell_type": "markdown",
   "metadata": {},
   "source": [
    "# pyLectureMultiModalAnalysis\n",
    "\n",
    "## Summary of video segments\n",
    "\n",
    "### Functions: 3\n",
    "#### add_duration(), labels2summary(),summary2video()\n",
    "\n",
    "### Author: Stelios Karozis"
   ]
  },
  {
   "cell_type": "code",
   "execution_count": 2,
   "metadata": {},
   "outputs": [
    {
     "data": {
      "text/html": [
       "<div>\n",
       "<style scoped>\n",
       "    .dataframe tbody tr th:only-of-type {\n",
       "        vertical-align: middle;\n",
       "    }\n",
       "\n",
       "    .dataframe tbody tr th {\n",
       "        vertical-align: top;\n",
       "    }\n",
       "\n",
       "    .dataframe thead th {\n",
       "        text-align: right;\n",
       "    }\n",
       "</style>\n",
       "<table border=\"1\" class=\"dataframe\">\n",
       "  <thead>\n",
       "    <tr style=\"text-align: right;\">\n",
       "      <th></th>\n",
       "      <th>FILE</th>\n",
       "      <th>SEG</th>\n",
       "      <th>CLASS_1</th>\n",
       "    </tr>\n",
       "  </thead>\n",
       "  <tbody>\n",
       "    <tr>\n",
       "      <th>0</th>\n",
       "      <td>medium_0</td>\n",
       "      <td>part_0</td>\n",
       "      <td>boring</td>\n",
       "    </tr>\n",
       "    <tr>\n",
       "      <th>1</th>\n",
       "      <td>medium_0</td>\n",
       "      <td>part_1</td>\n",
       "      <td>interesting</td>\n",
       "    </tr>\n",
       "    <tr>\n",
       "      <th>2</th>\n",
       "      <td>medium_0</td>\n",
       "      <td>part_2</td>\n",
       "      <td>boring</td>\n",
       "    </tr>\n",
       "    <tr>\n",
       "      <th>3</th>\n",
       "      <td>medium_0</td>\n",
       "      <td>part_3</td>\n",
       "      <td>interesting</td>\n",
       "    </tr>\n",
       "    <tr>\n",
       "      <th>4</th>\n",
       "      <td>medium_0</td>\n",
       "      <td>part_4</td>\n",
       "      <td>interesting</td>\n",
       "    </tr>\n",
       "    <tr>\n",
       "      <th>...</th>\n",
       "      <td>...</td>\n",
       "      <td>...</td>\n",
       "      <td>...</td>\n",
       "    </tr>\n",
       "    <tr>\n",
       "      <th>245</th>\n",
       "      <td>medium_7</td>\n",
       "      <td>part_45</td>\n",
       "      <td>interesting</td>\n",
       "    </tr>\n",
       "    <tr>\n",
       "      <th>246</th>\n",
       "      <td>medium_7</td>\n",
       "      <td>part_46</td>\n",
       "      <td>interesting</td>\n",
       "    </tr>\n",
       "    <tr>\n",
       "      <th>247</th>\n",
       "      <td>medium_7</td>\n",
       "      <td>part_47</td>\n",
       "      <td>neutral</td>\n",
       "    </tr>\n",
       "    <tr>\n",
       "      <th>248</th>\n",
       "      <td>medium_7</td>\n",
       "      <td>part_48</td>\n",
       "      <td>interesting</td>\n",
       "    </tr>\n",
       "    <tr>\n",
       "      <th>249</th>\n",
       "      <td>medium_7</td>\n",
       "      <td>part_49</td>\n",
       "      <td>interesting</td>\n",
       "    </tr>\n",
       "  </tbody>\n",
       "</table>\n",
       "<p>250 rows × 3 columns</p>\n",
       "</div>"
      ],
      "text/plain": [
       "         FILE      SEG      CLASS_1\n",
       "0    medium_0   part_0       boring\n",
       "1    medium_0   part_1  interesting\n",
       "2    medium_0   part_2       boring\n",
       "3    medium_0   part_3  interesting\n",
       "4    medium_0   part_4  interesting\n",
       "..        ...      ...          ...\n",
       "245  medium_7  part_45  interesting\n",
       "246  medium_7  part_46  interesting\n",
       "247  medium_7  part_47      neutral\n",
       "248  medium_7  part_48  interesting\n",
       "249  medium_7  part_49  interesting\n",
       "\n",
       "[250 rows x 3 columns]"
      ]
     },
     "execution_count": 2,
     "metadata": {},
     "output_type": "execute_result"
    }
   ],
   "source": [
    "import pandas as pd\n",
    "import numpy as np\n",
    "\n",
    "df=pd.read_csv('../data/index.csv', sep=';')\n",
    "df"
   ]
  },
  {
   "cell_type": "code",
   "execution_count": 13,
   "metadata": {},
   "outputs": [],
   "source": [
    "def add_duration(df=df, folder='../data/'):\n",
    "    from pymediainfo import MediaInfo\n",
    "    dur=[]\n",
    "    for index,f in df.iterrows():\n",
    "        #print(f['FILE'])\n",
    "        media_info = MediaInfo.parse(folder+f['FILE']+'/'+f['SEG']+'.mp4')\n",
    "    #duration in milliseconds\n",
    "        duration_in_s = media_info.tracks[0].duration/1000\n",
    "        dur.append(duration_in_s)\n",
    "    df['DURATION']=dur\n",
    "    return df"
   ]
  },
  {
   "cell_type": "code",
   "execution_count": 440,
   "metadata": {},
   "outputs": [
    {
     "data": {
      "text/html": [
       "<div>\n",
       "<style scoped>\n",
       "    .dataframe tbody tr th:only-of-type {\n",
       "        vertical-align: middle;\n",
       "    }\n",
       "\n",
       "    .dataframe tbody tr th {\n",
       "        vertical-align: top;\n",
       "    }\n",
       "\n",
       "    .dataframe thead th {\n",
       "        text-align: right;\n",
       "    }\n",
       "</style>\n",
       "<table border=\"1\" class=\"dataframe\">\n",
       "  <thead>\n",
       "    <tr style=\"text-align: right;\">\n",
       "      <th></th>\n",
       "      <th>FILE</th>\n",
       "      <th>SEG</th>\n",
       "      <th>CLASS_1</th>\n",
       "      <th>DURATION</th>\n",
       "    </tr>\n",
       "  </thead>\n",
       "  <tbody>\n",
       "    <tr>\n",
       "      <th>0</th>\n",
       "      <td>medium_0</td>\n",
       "      <td>part_0</td>\n",
       "      <td>boring</td>\n",
       "      <td>17.040</td>\n",
       "    </tr>\n",
       "    <tr>\n",
       "      <th>1</th>\n",
       "      <td>medium_7</td>\n",
       "      <td>part_28</td>\n",
       "      <td>boring</td>\n",
       "      <td>21.479</td>\n",
       "    </tr>\n",
       "    <tr>\n",
       "      <th>2</th>\n",
       "      <td>medium_0</td>\n",
       "      <td>part_1</td>\n",
       "      <td>interesting</td>\n",
       "      <td>18.716</td>\n",
       "    </tr>\n",
       "    <tr>\n",
       "      <th>3</th>\n",
       "      <td>medium_0</td>\n",
       "      <td>part_2</td>\n",
       "      <td>boring</td>\n",
       "      <td>23.337</td>\n",
       "    </tr>\n",
       "    <tr>\n",
       "      <th>4</th>\n",
       "      <td>medium_0</td>\n",
       "      <td>part_3</td>\n",
       "      <td>interesting</td>\n",
       "      <td>21.850</td>\n",
       "    </tr>\n",
       "    <tr>\n",
       "      <th>...</th>\n",
       "      <td>...</td>\n",
       "      <td>...</td>\n",
       "      <td>...</td>\n",
       "      <td>...</td>\n",
       "    </tr>\n",
       "    <tr>\n",
       "      <th>249</th>\n",
       "      <td>medium_7</td>\n",
       "      <td>part_46</td>\n",
       "      <td>interesting</td>\n",
       "      <td>18.739</td>\n",
       "    </tr>\n",
       "    <tr>\n",
       "      <th>250</th>\n",
       "      <td>medium_7</td>\n",
       "      <td>part_47</td>\n",
       "      <td>neutral</td>\n",
       "      <td>22.524</td>\n",
       "    </tr>\n",
       "    <tr>\n",
       "      <th>251</th>\n",
       "      <td>medium_7</td>\n",
       "      <td>part_48</td>\n",
       "      <td>interesting</td>\n",
       "      <td>18.437</td>\n",
       "    </tr>\n",
       "    <tr>\n",
       "      <th>252</th>\n",
       "      <td>medium_7</td>\n",
       "      <td>part_49</td>\n",
       "      <td>interesting</td>\n",
       "      <td>20.755</td>\n",
       "    </tr>\n",
       "    <tr>\n",
       "      <th>253</th>\n",
       "      <td>medium_7</td>\n",
       "      <td>part_50</td>\n",
       "      <td>interesting</td>\n",
       "      <td>19.134</td>\n",
       "    </tr>\n",
       "  </tbody>\n",
       "</table>\n",
       "<p>254 rows × 4 columns</p>\n",
       "</div>"
      ],
      "text/plain": [
       "         FILE      SEG      CLASS_1  DURATION\n",
       "0    medium_0   part_0       boring    17.040\n",
       "1    medium_7  part_28       boring    21.479\n",
       "2    medium_0   part_1  interesting    18.716\n",
       "3    medium_0   part_2       boring    23.337\n",
       "4    medium_0   part_3  interesting    21.850\n",
       "..        ...      ...          ...       ...\n",
       "249  medium_7  part_46  interesting    18.739\n",
       "250  medium_7  part_47      neutral    22.524\n",
       "251  medium_7  part_48  interesting    18.437\n",
       "252  medium_7  part_49  interesting    20.755\n",
       "253  medium_7  part_50  interesting    19.134\n",
       "\n",
       "[254 rows x 4 columns]"
      ]
     },
     "execution_count": 440,
     "metadata": {},
     "output_type": "execute_result"
    }
   ],
   "source": [
    "#add_duration(df=df)"
   ]
  },
  {
   "cell_type": "code",
   "execution_count": 4,
   "metadata": {},
   "outputs": [],
   "source": [
    "def labels2summary(df=df, col_cl='CLASS_1', label=['boring','interesting','neutral'], prc_l=[0.30,0.35,0.35], col_d='DURATION', duration_sec=90):\n",
    "    summary={}\n",
    "    i=0\n",
    "    for l,p in zip(label, prc_l):\n",
    "        df_label=df.loc[df[col_cl] == l]\n",
    "        \n",
    "        #In order to meet the total duration of summary we use the avg duration of each class\n",
    "        avg_dur=round(df_label[col_d].mean())\n",
    "        \n",
    "        #We calculate the seconds correspond to each class\n",
    "        #and then how many parts of each class (of avg duration) \n",
    "        #need to be used for each time span \n",
    "        if duration_sec != -1:\n",
    "            ndx=int(round((p*duration_sec/avg_dur)))\n",
    "        else:\n",
    "            ndx=int(len(df_label[col_cl])*p)\n",
    "            \n",
    "        tmp=df_label[['FILE','SEG',col_cl]].iloc[0:ndx]\n",
    "\n",
    "        i=i+1\n",
    "        if i == 1:\n",
    "            summary=tmp\n",
    "        else:\n",
    "            summary=pd.concat([summary,tmp])\n",
    "    return summary.reset_index().set_index([col_cl,'FILE'])"
   ]
  },
  {
   "cell_type": "code",
   "execution_count": 462,
   "metadata": {},
   "outputs": [
    {
     "data": {
      "text/html": [
       "<div>\n",
       "<style scoped>\n",
       "    .dataframe tbody tr th:only-of-type {\n",
       "        vertical-align: middle;\n",
       "    }\n",
       "\n",
       "    .dataframe tbody tr th {\n",
       "        vertical-align: top;\n",
       "    }\n",
       "\n",
       "    .dataframe thead th {\n",
       "        text-align: right;\n",
       "    }\n",
       "</style>\n",
       "<table border=\"1\" class=\"dataframe\">\n",
       "  <thead>\n",
       "    <tr style=\"text-align: right;\">\n",
       "      <th></th>\n",
       "      <th></th>\n",
       "      <th>index</th>\n",
       "      <th>SEG</th>\n",
       "    </tr>\n",
       "    <tr>\n",
       "      <th>CLASS_1</th>\n",
       "      <th>FILE</th>\n",
       "      <th></th>\n",
       "      <th></th>\n",
       "    </tr>\n",
       "  </thead>\n",
       "  <tbody>\n",
       "    <tr>\n",
       "      <th rowspan=\"5\" valign=\"top\">boring</th>\n",
       "      <th>medium_0</th>\n",
       "      <td>0</td>\n",
       "      <td>part_0</td>\n",
       "    </tr>\n",
       "    <tr>\n",
       "      <th>medium_7</th>\n",
       "      <td>1</td>\n",
       "      <td>part_28</td>\n",
       "    </tr>\n",
       "    <tr>\n",
       "      <th>medium_0</th>\n",
       "      <td>3</td>\n",
       "      <td>part_2</td>\n",
       "    </tr>\n",
       "    <tr>\n",
       "      <th>medium_0</th>\n",
       "      <td>11</td>\n",
       "      <td>part_10</td>\n",
       "    </tr>\n",
       "    <tr>\n",
       "      <th>medium_0</th>\n",
       "      <td>12</td>\n",
       "      <td>part_11</td>\n",
       "    </tr>\n",
       "    <tr>\n",
       "      <th rowspan=\"6\" valign=\"top\">interesting</th>\n",
       "      <th>medium_0</th>\n",
       "      <td>2</td>\n",
       "      <td>part_1</td>\n",
       "    </tr>\n",
       "    <tr>\n",
       "      <th>medium_0</th>\n",
       "      <td>4</td>\n",
       "      <td>part_3</td>\n",
       "    </tr>\n",
       "    <tr>\n",
       "      <th>medium_0</th>\n",
       "      <td>5</td>\n",
       "      <td>part_4</td>\n",
       "    </tr>\n",
       "    <tr>\n",
       "      <th>medium_0</th>\n",
       "      <td>6</td>\n",
       "      <td>part_5</td>\n",
       "    </tr>\n",
       "    <tr>\n",
       "      <th>medium_0</th>\n",
       "      <td>7</td>\n",
       "      <td>part_6</td>\n",
       "    </tr>\n",
       "    <tr>\n",
       "      <th>medium_0</th>\n",
       "      <td>10</td>\n",
       "      <td>part_9</td>\n",
       "    </tr>\n",
       "    <tr>\n",
       "      <th rowspan=\"6\" valign=\"top\">neutral</th>\n",
       "      <th>medium_0</th>\n",
       "      <td>8</td>\n",
       "      <td>part_7</td>\n",
       "    </tr>\n",
       "    <tr>\n",
       "      <th>medium_0</th>\n",
       "      <td>9</td>\n",
       "      <td>part_8</td>\n",
       "    </tr>\n",
       "    <tr>\n",
       "      <th>medium_0</th>\n",
       "      <td>13</td>\n",
       "      <td>part_12</td>\n",
       "    </tr>\n",
       "    <tr>\n",
       "      <th>medium_0</th>\n",
       "      <td>16</td>\n",
       "      <td>part_15</td>\n",
       "    </tr>\n",
       "    <tr>\n",
       "      <th>medium_0</th>\n",
       "      <td>18</td>\n",
       "      <td>part_17</td>\n",
       "    </tr>\n",
       "    <tr>\n",
       "      <th>medium_0</th>\n",
       "      <td>21</td>\n",
       "      <td>part_20</td>\n",
       "    </tr>\n",
       "  </tbody>\n",
       "</table>\n",
       "</div>"
      ],
      "text/plain": [
       "                      index      SEG\n",
       "CLASS_1     FILE                    \n",
       "boring      medium_0      0   part_0\n",
       "            medium_7      1  part_28\n",
       "            medium_0      3   part_2\n",
       "            medium_0     11  part_10\n",
       "            medium_0     12  part_11\n",
       "interesting medium_0      2   part_1\n",
       "            medium_0      4   part_3\n",
       "            medium_0      5   part_4\n",
       "            medium_0      6   part_5\n",
       "            medium_0      7   part_6\n",
       "            medium_0     10   part_9\n",
       "neutral     medium_0      8   part_7\n",
       "            medium_0      9   part_8\n",
       "            medium_0     13  part_12\n",
       "            medium_0     16  part_15\n",
       "            medium_0     18  part_17\n",
       "            medium_0     21  part_20"
      ]
     },
     "execution_count": 462,
     "metadata": {},
     "output_type": "execute_result"
    }
   ],
   "source": [
    "#summary= labels2summary(df=df, col_cl='CLASS_1', label=['boring','interesting','neutral'], prc_l=[0.30,0.35,0.35], col_d='DURATION', duration_sec=360)\n",
    "#summary"
   ]
  },
  {
   "cell_type": "code",
   "execution_count": 15,
   "metadata": {},
   "outputs": [],
   "source": [
    "def summary2video(df, output_folder='../data/', output_name='summary.mp4'):\n",
    "    import os\n",
    "    from pymediainfo import MediaInfo\n",
    "    from moviepy.editor import VideoFileClip, concatenate_videoclips, TextClip\n",
    "    \n",
    "    try:\n",
    "        os.remove(output_name)\n",
    "    except OSError:\n",
    "        pass\n",
    "    clips=[]\n",
    "    for i, new_df in df.groupby(level=0):\n",
    "        for folder,file in df.loc[i].iterrows():\n",
    "            print(folder,file['SEG'])\n",
    "            clip = VideoFileClip(output_folder+folder+'/'+file['SEG']+'.mp4')\n",
    "            clips.append(clip)\n",
    "    final_clip = concatenate_videoclips(clips)\n",
    "    final_clip.write_videofile(output_folder+output_name)\n",
    "    \n",
    "    media_info = MediaInfo.parse(output_folder+output_name)\n",
    "    duration_in_s = media_info.tracks[0].duration/1000\n",
    "    print('Summary duration is:', duration_in_s)"
   ]
  },
  {
   "cell_type": "code",
   "execution_count": 486,
   "metadata": {},
   "outputs": [
    {
     "name": "stdout",
     "output_type": "stream",
     "text": [
      "medium_0 part_0\n",
      "medium_7 part_28\n",
      "medium_0 part_2\n",
      "medium_0 part_10\n",
      "medium_0 part_11\n",
      "medium_0 part_1\n",
      "medium_0 part_3\n",
      "medium_0 part_4\n",
      "medium_0 part_5\n",
      "medium_0 part_6\n",
      "medium_0 part_9\n",
      "medium_0 part_7\n",
      "medium_0 part_8\n",
      "medium_0 part_12\n",
      "medium_0 part_15\n",
      "medium_0 part_17\n",
      "medium_0 part_20\n"
     ]
    },
    {
     "name": "stderr",
     "output_type": "stream",
     "text": [
      "chunk:   1%|          | 84/7740 [00:00<00:09, 838.71it/s, now=None]"
     ]
    },
    {
     "name": "stdout",
     "output_type": "stream",
     "text": [
      "Moviepy - Building video ../data/summary.mp4.\n",
      "MoviePy - Writing audio in summaryTEMP_MPY_wvf_snd.mp3\n"
     ]
    },
    {
     "name": "stderr",
     "output_type": "stream",
     "text": [
      "t:   1%|          | 80/10520 [00:00<00:13, 784.55it/s, now=None]      "
     ]
    },
    {
     "name": "stdout",
     "output_type": "stream",
     "text": [
      "MoviePy - Done.\n",
      "Moviepy - Writing video ../data/summary.mp4\n",
      "\n"
     ]
    },
    {
     "name": "stderr",
     "output_type": "stream",
     "text": [
      "                                                                    \r"
     ]
    },
    {
     "name": "stdout",
     "output_type": "stream",
     "text": [
      "Moviepy - Done !\n",
      "Moviepy - video ready ../data/summary.mp4\n",
      "Summary duration is: 351.06\n"
     ]
    }
   ],
   "source": [
    "#summary2video(df=summary)"
   ]
  },
  {
   "cell_type": "code",
   "execution_count": 11,
   "metadata": {},
   "outputs": [],
   "source": [
    "def df2summary(df=df, folderDATA='../data/' ,col_cl='CLASS_1', label=['boring','interesting','neutral'], prc_l=[0.30,0.35,0.35], col_d='DURATION', duration_sec=90, output_folder= '../data/', output_name='summary.mp4'):\n",
    "\n",
    "    df_dur=add_duration(df=df, folder=folderDATA)\n",
    "\n",
    "    summary=labels2summary(df=df_dur, col_cl=col_cl, label=label, prc_l=prc_l, col_d=col_d, duration_sec=duration_sec)\n",
    "\n",
    "    summary2video(df=summary, output_folder=output_folder, output_name=output_name)\n",
    "    \n",
    "    return print('Enjoy your summary video !')"
   ]
  },
  {
   "cell_type": "code",
   "execution_count": 16,
   "metadata": {},
   "outputs": [
    {
     "name": "stdout",
     "output_type": "stream",
     "text": [
      "medium_0 part_0\n",
      "medium_0 part_1\n",
      "medium_0 part_7\n"
     ]
    },
    {
     "name": "stderr",
     "output_type": "stream",
     "text": [
      "chunk:   9%|▉         | 123/1300 [00:00<00:00, 1225.81it/s, now=None]"
     ]
    },
    {
     "name": "stdout",
     "output_type": "stream",
     "text": [
      "Moviepy - Building video ../data/summary.mp4.\n",
      "MoviePy - Writing audio in summaryTEMP_MPY_wvf_snd.mp3\n"
     ]
    },
    {
     "name": "stderr",
     "output_type": "stream",
     "text": [
      "t:   5%|▌         | 77/1474 [00:00<00:01, 765.63it/s, now=None]       "
     ]
    },
    {
     "name": "stdout",
     "output_type": "stream",
     "text": [
      "MoviePy - Done.\n",
      "Moviepy - Writing video ../data/summary.mp4\n",
      "\n"
     ]
    },
    {
     "name": "stderr",
     "output_type": "stream",
     "text": [
      "                                                                  \r"
     ]
    },
    {
     "name": "stdout",
     "output_type": "stream",
     "text": [
      "Moviepy - Done !\n",
      "Moviepy - video ready ../data/summary.mp4\n",
      "Summary duration is: 58.96\n",
      "Enjoy your summary video !\n"
     ]
    }
   ],
   "source": [
    "df2summary(df=df, folderDATA='../data/' ,col_cl='CLASS_1', label=['boring','interesting','neutral'], prc_l=[0.30,0.35,0.35], col_d='DURATION', duration_sec=90, output_folder= '../data/', output_name='summary.mp4')"
   ]
  },
  {
   "cell_type": "code",
   "execution_count": null,
   "metadata": {},
   "outputs": [],
   "source": []
  }
 ],
 "metadata": {
  "kernelspec": {
   "display_name": "Python 3",
   "language": "python",
   "name": "python3"
  },
  "language_info": {
   "codemirror_mode": {
    "name": "ipython",
    "version": 3
   },
   "file_extension": ".py",
   "mimetype": "text/x-python",
   "name": "python",
   "nbconvert_exporter": "python",
   "pygments_lexer": "ipython3",
   "version": "3.6.9"
  }
 },
 "nbformat": 4,
 "nbformat_minor": 2
}
