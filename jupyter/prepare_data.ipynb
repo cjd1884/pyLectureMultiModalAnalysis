{
 "cells": [
  {
   "cell_type": "code",
   "execution_count": 1,
   "metadata": {},
   "outputs": [],
   "source": [
    "import pytube\n",
    "import librosa\n",
    "import ffmpy\n",
    "import os\n",
    "import glob\n",
    "import subprocess\n",
    "import platform\n",
    "import IPython"
   ]
  },
  {
   "cell_type": "code",
   "execution_count": null,
   "metadata": {},
   "outputs": [],
   "source": [
    "yt_lst = ['https://www.youtube.com/watch?v=Z7YMDwzUTds',\n",
    "         'https://www.youtube.com/watch?v=H-HVZJ7kGI0',\n",
    "         'https://www.youtube.com/watch?v=VwVg9jCtqaU',\n",
    "         'https://www.youtube.com/watch?v=yCC09vCHzF8',\n",
    "         'https://www.youtube.com/watch?v=katiy95_mxo',\n",
    "         'https://www.youtube.com/watch?v=wjTJVhmu1JM',\n",
    "         'https://www.youtube.com/watch?v=uv6KLbkvua8']"
   ]
  },
  {
   "cell_type": "code",
   "execution_count": null,
   "metadata": {},
   "outputs": [],
   "source": [
    "platform.system() == 'Linux'"
   ]
  },
  {
   "cell_type": "markdown",
   "metadata": {
    "heading_collapsed": true
   },
   "source": [
    "#### Download YouTube videos using `pytube`"
   ]
  },
  {
   "cell_type": "code",
   "execution_count": 2,
   "metadata": {
    "code_folding": [],
    "hidden": true
   },
   "outputs": [],
   "source": [
    "def get_video_itag(stream_lst,\n",
    "                  res,\n",
    "                  subtype='mp4'):\n",
    "    '''Return the `itag` of a YouTube video with specified resolution and subtype.\n",
    "    If the desired resolution does not exist, the user is prompt to input a new one from a list.\n",
    "    \n",
    "    Input:\n",
    "      stream_lst:  a list of available media formats\n",
    "      res:         desired resolution, string of the form `xxxp`, where `x` is a number\n",
    "      subtype:     desired subtype, string -- available options are `mp4` (default) and `webm`\n",
    "    Output:\n",
    "      `itag` of YouTube video\n",
    "    '''\n",
    "    video_streams = [stream for stream in stream_lst if stream.includes_audio_track == False]\n",
    "    resolutions = [stream.resolution for stream in video_streams \n",
    "                   if stream.resolution != None and stream.subtype == subtype]\n",
    "    if res not in resolutions:\n",
    "        print('Select a new video resolution from the list: ', resolutions)\n",
    "        new_res = input()\n",
    "        return get_video_itag(stream_lst, new_res, subtype)\n",
    "    itag = [stream.itag for stream in video_streams if stream.resolution == res and stream.subtype == subtype]\n",
    "    video_itag = itag[0]\n",
    "    return video_itag"
   ]
  },
  {
   "cell_type": "code",
   "execution_count": 3,
   "metadata": {
    "code_folding": [],
    "hidden": true
   },
   "outputs": [],
   "source": [
    "def get_audio_itag(stream_lst,\n",
    "                  abr,\n",
    "                  subtype='mp4'):\n",
    "    '''Return the `itag` of a YouTube video with specified audio bitrate (`abr`) and subtype.\n",
    "    If the desired `arb` does not exist, the user is prompt to input a new one from a list.\n",
    "    \n",
    "    Input:\n",
    "      stream_lst:  list of available media formats\n",
    "      abr:         desired bit rate, string of the form `xxxkpbs`, where `x` is a number\n",
    "      subtype:     desired subtype, string -- available options are `mp4` (default) and `webm`\n",
    "    Output:\n",
    "      `itag` of YouTube video\n",
    "    '''\n",
    "    audio_streams = [stream for stream in stream_lst if stream.includes_audio_track == True\n",
    "                    and stream.includes_video_track == False]\n",
    "    audio_abrs = [stream.abr for stream in audio_streams if stream.subtype == subtype]\n",
    "    if abr not in audio_abrs:\n",
    "        print('Select a new abr variable from the following list: ', audio_abrs)\n",
    "        new_abr = input()\n",
    "        return get_audio_itag(stream_lst, new_abr, subtype)\n",
    "    itag = [stream.itag for stream in audio_streams if stream.abr == abr]\n",
    "    audio_itag = itag[0]\n",
    "    return audio_itag"
   ]
  },
  {
   "cell_type": "code",
   "execution_count": 4,
   "metadata": {
    "hidden": true
   },
   "outputs": [],
   "source": [
    "def download_medium(youtube_url,\n",
    "                   out_dir,\n",
    "                   audio_filename,\n",
    "                   video_filename,\n",
    "                   res,\n",
    "                   abr,\n",
    "                   subtype='mp4'):\n",
    "    '''Download the audio and video from a requested YouTube object.\n",
    "    Audio and video are downloaded seperately and stored in seperate folders.\n",
    "    \n",
    "    Input:\n",
    "      youtube_url:       url address of requested YouTube video\n",
    "      out_dir:           parent directory where audio and video files will be stored \n",
    "      audio_name:        output audio name\n",
    "      video_name:        output video name\n",
    "      res, abr, subtype: arguments of `get_audio_itag` and `get_video_itag` functions\n",
    "    Output:\n",
    "      None    \n",
    "    '''\n",
    "    yt_obj = pytube.YouTube(youtube_url)                     # YouTube object\n",
    "    streams = yt_obj.streams.all()                           # list of available media formats\n",
    "    # [a] video\n",
    "    # create path\n",
    "    path_name=os.path.join(out_dir, 'video')\n",
    "    os.makedirs(path_name, mode=0o777, exist_ok=True)\n",
    "    # get `itag`\n",
    "    video_itag=get_video_itag(stream_lst=streams, res=res, subtype='mp4')\n",
    "    # download video\n",
    "    yt_obj.streams.get_by_itag(video_itag).download(output_path=path_name, filename=video_filename, filename_prefix=None)\n",
    "    # [b] audio\n",
    "    # create path\n",
    "    path_name=os.path.join(out_dir, 'audio')\n",
    "    os.makedirs(path_name, mode=0o777, exist_ok=True)\n",
    "    # get `itag`\n",
    "    audio_itag=get_audio_itag(stream_lst=streams, abr=abr, subtype='mp4')\n",
    "    # download audio\n",
    "    yt_obj.streams.get_by_itag(audio_itag).download(output_path=path_name, filename=audio_filename, filename_prefix=None)"
   ]
  },
  {
   "cell_type": "code",
   "execution_count": 7,
   "metadata": {
    "hidden": true
   },
   "outputs": [],
   "source": [
    "def download_media(doc_path,\n",
    "                  out_dir,\n",
    "                  res='360p',\n",
    "                  abr='128kpbs',\n",
    "                  subtype='mp4'\n",
    "                  ):            \n",
    "    '''Download audio and video from a YouTube object; url addresses are provided by a text file\n",
    "    \n",
    "    Input:\n",
    "      doc_path:          text file containg url addresses--each line is a single address\n",
    "      out_dir:           parent directory where audio and video files will be stored\n",
    "      res, abr, subtype: see `get_audio_itag` and `get_video_itag` functions\n",
    "    Output\n",
    "      None\n",
    "    '''\n",
    "    with open(doc_path, 'r') as f:\n",
    "        yt_urls = f.read().splitlines()\n",
    "    \n",
    "    # print(yt_urls)\n",
    "    \n",
    "    for idx,url in enumerate(yt_urls):\n",
    "        audio_name = 'audio_'+str(idx)\n",
    "        video_name = 'video_'+str(idx)\n",
    "        download_medium(youtube_url=url, out_dir=out_dir, audio_filename=audio_name, video_filename=video_name, \n",
    "                       res='360p', abr='128kbps',subtype='mp4')"
   ]
  },
  {
   "cell_type": "code",
   "execution_count": 8,
   "metadata": {
    "hidden": true
   },
   "outputs": [],
   "source": [
    "download_media(doc_path='../yt_dummy.txt',\n",
    "              out_dir='../data')"
   ]
  },
  {
   "cell_type": "code",
   "execution_count": null,
   "metadata": {
    "hidden": true
   },
   "outputs": [],
   "source": []
  },
  {
   "cell_type": "markdown",
   "metadata": {},
   "source": [
    "#### Join audio & video files using `ffmpeg` & `subprocess` "
   ]
  },
  {
   "cell_type": "markdown",
   "metadata": {},
   "source": [
    "__Objective__. Join audio and video into a single medium.\n",
    "\n",
    "- read file names from folder\n",
    "- associate corresponding audio and video files\n",
    "- use ffmpeg to join audio and video files in a single medium"
   ]
  },
  {
   "cell_type": "code",
   "execution_count": 33,
   "metadata": {},
   "outputs": [],
   "source": [
    "def main(in_dir = '../data',\n",
    "            out_dir = '../data'):\n",
    "    '''\n",
    "    Merges a video file with its associated audio file creating a single medium, which it is\n",
    "    stored in a directory `out_dir/media/`\n",
    "    \n",
    "    Input:\n",
    "      in_dir:  the directory containing the `audio` and `video` folders\n",
    "      out_dir: the directory containing the `media` folder where the merged media will be stored\n",
    "    Output:\n",
    "      None\n",
    "    '''\n",
    "    # [1] match associated audio and video\n",
    "    # e.g. audio_k is matched with video_k\n",
    "    \n",
    "    audio_path = os.path.join(in_dir, 'audio', '')\n",
    "    video_path = os.path.join(in_dir, 'video', '')\n",
    "    \n",
    "    audio_files = os.listdir(audio_path)\n",
    "    video_files = os.listdir(video_path)\n",
    "    \n",
    "    matched_pairs = [(video_name, audio_name)\n",
    "                for video_name in video_files for audio_name in audio_files\n",
    "                if video_name.split('.')[0].split('_')[-1] ==  \n",
    "                   audio_name.split('.')[0].split('_')[-1]]\n",
    "    \n",
    "    # print(matched_pairs)\n",
    "    \n",
    "    # [2] preparing the output folder and merging audio and video into a single medium\n",
    "    \n",
    "    path_name = os.path.join(out_dir, 'media', '')\n",
    "    os.makedirs(path_name, mode=0o777, exist_ok=True)\n",
    "\n",
    "    for idx in range(len(matched_pairs)):\n",
    "        video = os.path.join(in_dir, 'video', matched_pairs[idx][0])\n",
    "        audio = os.path.join(in_dir, 'audio', matched_pairs[idx][1])\n",
    "        output_name = 'medium_'+str(idx)+'.mp4'\n",
    "        output = os.path.join(path_name, output_name)\n",
    "\n",
    "        inp = {audio:None, video:None}\n",
    "        oup = {output:['-c', 'copy']}\n",
    "\n",
    "        ff = ffmpy.FFmpeg(inputs=inp, outputs=oup)\n",
    "        # print(ff.cmd)\n",
    "        ff.run()"
   ]
  },
  {
   "cell_type": "code",
   "execution_count": 34,
   "metadata": {},
   "outputs": [],
   "source": [
    "av_merge()"
   ]
  },
  {
   "cell_type": "code",
   "execution_count": 30,
   "metadata": {},
   "outputs": [
    {
     "name": "stdout",
     "output_type": "stream",
     "text": [
      "['audio_1.mp4', 'audio_0.mp4']\n",
      "['../data/audio/audio_1.mp4', '../data/audio/audio_0.mp4']\n",
      "['../data/video/video_1.mp4', '../data/video/video_0.mp4']\n"
     ]
    },
    {
     "data": {
      "text/plain": [
       "[('../data/video/video_1.mp4', '../data/audio/audio_1.mp4'),\n",
       " ('../data/video/video_0.mp4', '../data/audio/audio_0.mp4')]"
      ]
     },
     "execution_count": 30,
     "metadata": {},
     "output_type": "execute_result"
    }
   ],
   "source": [
    "# paths\n",
    "audio_path = os.path.join('..', 'data', 'audio', '')\n",
    "video_path = os.path.join('..', 'data', 'video', '')\n",
    "\n",
    "print(os.listdir(audio_path))\n",
    "\n",
    "\n",
    "\n",
    "# audio filenames\n",
    "audio_filenames = glob.glob(audio_path+'*.mp4')\n",
    "print(audio_filenames)\n",
    "# video filenames\n",
    "video_filenames = glob.glob(video_path+'*.mp4')\n",
    "print(video_filenames)\n",
    "\n",
    "# split and get the the index from the filename of the first element of `audio_filenames`\n",
    "# e.g., retrieve `0` from `../data/audio/audio_0.mp4`\n",
    "audio_filenames[0].split('/')[-1].split('.')[0].split('_')[-1]\n",
    "\n",
    "# matched pairs: match associated audio and video files\n",
    "matched_pairs = [(video_name, audio_name)\n",
    "                for video_name in video_filenames for audio_name in audio_filenames\n",
    "                if video_name.split('/')[-1].split('.')[0].split('_')[-1] ==  \n",
    "                   audio_name.split('/')[-1].split('.')[0].split('_')[-1]]\n",
    "matched_pairs"
   ]
  },
  {
   "cell_type": "code",
   "execution_count": 27,
   "metadata": {},
   "outputs": [],
   "source": [
    "# prepare output folder\n",
    "path_name = os.path.join('..', 'data', 'media')\n",
    "os.makedirs(path_name, mode=0o777, exist_ok=True)\n",
    "\n",
    "# join audio and video into a single medium\n",
    "for idx in range(len(matched_pairs)):\n",
    "    video = matched_pairs[idx][0]\n",
    "    audio = matched_pairs[idx][1]\n",
    "    output_name = 'medium_'+str(idx)+'.mp4'\n",
    "    output = os.path.join(path_name, output_name)\n",
    "\n",
    "    inp = {audio:None, video:None}\n",
    "    oup = {output:['-c', 'copy']}\n",
    "\n",
    "    ff = ffmpy.FFmpeg(inputs=inp, outputs=oup)\n",
    "    # print(ff.cmd)\n",
    "    ff.run()"
   ]
  },
  {
   "cell_type": "markdown",
   "metadata": {},
   "source": [
    "#### Segmet media files"
   ]
  },
  {
   "cell_type": "markdown",
   "metadata": {},
   "source": [
    "__Objective__. Implement a reasonable approach to segment media files into non-overlapping segments in order to facilitate the annotation process. "
   ]
  },
  {
   "cell_type": "markdown",
   "metadata": {},
   "source": [
    "__Segment audio files__"
   ]
  },
  {
   "cell_type": "code",
   "execution_count": null,
   "metadata": {},
   "outputs": [],
   "source": [
    "filename = audio_filenames[4]\n",
    "y, sr = librosa.load(filename, sr=None)"
   ]
  },
  {
   "cell_type": "code",
   "execution_count": null,
   "metadata": {},
   "outputs": [],
   "source": [
    " IPython.display.Audio(data=y[:], rate=sr)"
   ]
  },
  {
   "cell_type": "code",
   "execution_count": null,
   "metadata": {},
   "outputs": [],
   "source": [
    "w = librosa.effects.split(y, top_db=40)"
   ]
  },
  {
   "cell_type": "code",
   "execution_count": null,
   "metadata": {},
   "outputs": [],
   "source": [
    " IPython.display.Audio(data=w[:], rate=sr)"
   ]
  },
  {
   "cell_type": "code",
   "execution_count": null,
   "metadata": {},
   "outputs": [],
   "source": []
  }
 ],
 "metadata": {
  "kernelspec": {
   "display_name": "Python 3",
   "language": "python",
   "name": "python3"
  },
  "language_info": {
   "codemirror_mode": {
    "name": "ipython",
    "version": 3
   },
   "file_extension": ".py",
   "mimetype": "text/x-python",
   "name": "python",
   "nbconvert_exporter": "python",
   "pygments_lexer": "ipython3",
   "version": "3.6.9"
  },
  "latex_envs": {
   "LaTeX_envs_menu_present": true,
   "autoclose": false,
   "autocomplete": true,
   "bibliofile": "biblio.bib",
   "cite_by": "apalike",
   "current_citInitial": 1,
   "eqLabelWithNumbers": true,
   "eqNumInitial": 1,
   "hotkeys": {
    "equation": "Ctrl-E",
    "itemize": "Ctrl-I"
   },
   "labels_anchors": false,
   "latex_user_defs": false,
   "report_style_numbering": false,
   "user_envs_cfg": false
  },
  "varInspector": {
   "cols": {
    "lenName": 16,
    "lenType": 16,
    "lenVar": 40
   },
   "kernels_config": {
    "python": {
     "delete_cmd_postfix": "",
     "delete_cmd_prefix": "del ",
     "library": "var_list.py",
     "varRefreshCmd": "print(var_dic_list())"
    },
    "r": {
     "delete_cmd_postfix": ") ",
     "delete_cmd_prefix": "rm(",
     "library": "var_list.r",
     "varRefreshCmd": "cat(var_dic_list()) "
    }
   },
   "types_to_exclude": [
    "module",
    "function",
    "builtin_function_or_method",
    "instance",
    "_Feature"
   ],
   "window_display": false
  }
 },
 "nbformat": 4,
 "nbformat_minor": 2
}
